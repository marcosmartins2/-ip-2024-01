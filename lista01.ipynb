{
  "nbformat": 4,
  "nbformat_minor": 0,
  "metadata": {
    "colab": {
      "provenance": [],
      "authorship_tag": "ABX9TyMyZVFQGwQkKijM6wXuAkO2",
      "include_colab_link": true
    },
    "kernelspec": {
      "name": "python3",
      "display_name": "Python 3"
    },
    "language_info": {
      "name": "python"
    }
  },
  "cells": [
    {
      "cell_type": "markdown",
      "metadata": {
        "id": "view-in-github",
        "colab_type": "text"
      },
      "source": [
        "<a href=\"https://colab.research.google.com/github/marcosmartins2/-ip-2024-01/blob/main/lista01.ipynb\" target=\"_parent\"><img src=\"https://colab.research.google.com/assets/colab-badge.svg\" alt=\"Open In Colab\"/></a>"
      ]
    },
    {
      "cell_type": "markdown",
      "source": [],
      "metadata": {
        "id": "3XjL98JB4CQF"
      }
    },
    {
      "cell_type": "markdown",
      "source": [
        "exercicio 1\n",
        "\n",
        "1. ler as  notas (nota 1 + nota 2 + nota 3)\n",
        "2. Somar as 3 notas do aluno( nota 1+ nota 2 + nota 3)\n",
        "3. dividir por 3 vai ser igual à média\n",
        "4. imprime a média\n",
        "5. se 'média' for maior ou igual a 6, imprime ('aprovado')\n",
        "6. se 'média' for menor que 6, imprime ('reprovado')\n",
        "\n"
      ],
      "metadata": {
        "id": "5qFOYaWMINyX"
      }
    },
    {
      "cell_type": "markdown",
      "source": [
        "exercicio 2\n",
        "\n",
        "1. ler o numero de jogos a serem jogados\n",
        "2. ler o numero total de pessoas.\n",
        "3. ler a porcentagem de pessoas na categoria popular\n",
        "4. ler a porcentagem de pessoas na categoria Geral\n",
        "5. ler a porcentagem de pessoas na categoria Arquibancada\n",
        "6. ler a porcentagem de pessoas na categoria cadeiras\n",
        "7. multiplicar o valor de cada porcentagem pelo numero total de pessoas para descobir o numero exato de pessoas em cada categoria\n",
        "8. multiplicar o valor anteriormente encontrado pelo preço do ingresso individual de cada categoria\n",
        "9. somar todos os resultados das 4 categorias\n",
        "10. imprimir o valor total em cada jogo\n"
      ],
      "metadata": {
        "id": "aflL3rgoKmER"
      }
    },
    {
      "cell_type": "markdown",
      "source": [
        "exercicio 3\n",
        "\n",
        "1. ler o numero 1\n",
        "2. ler o numero 2\n",
        "3. ler o numero 3\n",
        "4. concatenar os 3 numeros de modo que 'numero 1' seja centena,'numero 2' seja dezena e 'numero 3' seja unidade\n",
        "5. imprimir o numero referente(n)\n",
        "6. ler e imprimir 'n' ao quadrado\n",
        "7. se numero 1 for = 0, imprimir 'DIGITO INVÁLIDO'\n",
        "8. se numero 1,numero 2 ou numero 3 possuir 2 dígitos , imprimir 'DÍGITO INVÁLIDO'"
      ],
      "metadata": {
        "id": "Ajeo-c03SFdF"
      }
    },
    {
      "cell_type": "markdown",
      "source": [
        "exercicio 4\n",
        "\n",
        "1. ler o valor do salario mínimo\n",
        "2. ler a quantidade kw gasta por uma residência\n",
        "3. ler a seguinte operação 'n' : 0,7 * quantidade de kw gasta por uma residencia\n",
        "4. ler a seguinte operação: valor do salario minimo*'n'/100 = valor em reais pago na conta de luz\n",
        "5. ler a seguinte operação: valor em reais pago na conta de luz/quantidade de kw gasta na residência = consumo por kw.\n",
        "6. imprimir o consumo por kw\n",
        "7. imprimir o valor em reais pago na conta de luz\n",
        "8. ler a seguinte operação: valor em reais pago na conta de luz * 90%\n",
        "9. imprimir o valor calculado na etapa 8, que será o valor com 10 porcento de desconto.\n"
      ],
      "metadata": {
        "id": "tlhek1mrUInP"
      }
    },
    {
      "cell_type": "markdown",
      "source": [
        "exercicio 5\n",
        "\n",
        "1. Ler o número da conta do cliente\n",
        "2. ler o consumo de água por metros cúbicos\n",
        "3. ler o tipo de consumidor, que pode ser: Comercial(C) , Industrial(I) ou Residencial(R)\n",
        "4. o programa deverá realizar uma operação, de acordo com o tipo de consumidor que está utilizando o programa:\n",
        "5. se o cliente for \"C\", a conta a ser realizada será: se o consumo for maior que 80 metros cubicos = (consumo - 80)*0,25 + 500; se o consumo for menor que 80 metros cubicos = 500 reais\n",
        "6. se o cliente for \"I\", a conta a ser realizada será: se o consumo for maior que 100 metros cubicos = (consumo - 100)*0,04 + 800 ; se o consumo for menor que 100 metros cubicos = 800 reais\n",
        "7. se o cliente for \"R\", a conta a ser realizada será: 5 + consumo*0,05\n",
        "8. imprimir o numero da conta informado pelo cliente\n",
        "9. imprimir algum dos valores calculados nas etapas '4','5' ou '6' de acordo com o tipo de consumidor informado\n",
        "\n"
      ],
      "metadata": {
        "id": "vuc1E_SFeMLU"
      }
    },
    {
      "cell_type": "markdown",
      "source": [
        "exercício 6\n",
        "\n",
        "1. ler o numero de temperaturas que serao adicionadas no programa.\n",
        "2. ler todas as temperaturas adicionadas pelo usuario, de acordo com o numero informado na etapa 1\n",
        "3. realizar o seguinte calculo em todas as linhas informadas: C = 5(F-32)/9, com F sendo o valor informado em cada uma das linhas de entrada\n",
        "4. dada a operacao anterior, com o resultado adquirido, imprimir em cada linha a seguinte frase: X fahrenheit ( valor informado na linha em questao, em fahrenheit) equivale a x CELSIUS( valor calculado pelo programa em cada linha em questão)\n"
      ],
      "metadata": {
        "id": "PEfeIzCLmMyu"
      }
    },
    {
      "cell_type": "markdown",
      "source": [
        "exercicio 7\n",
        "\n",
        "1. ler a temperatura em fahrenheit(float)\n",
        "2. ler a quantidade de chuva informada em polegada(float)\n",
        "3. realizar a seguinte operação para conversao de fahrenheit para celsius > C=(5F-160)/9, em que C é a temperatura em celsius e F é a temperatura em fahrenheit\n",
        "4. realizar outra operação para conversao de polegadas para mílimetros > P*M, em que P é o numero em polegadas e M é o numero em mílimetros\n",
        "5. imprimir \"O valor em celsius é = C\"\n",
        "6. imprimir \"A quantidade de chuva é = M\"\n",
        "\n"
      ],
      "metadata": {
        "id": "r7hiEPuFryci"
      }
    },
    {
      "cell_type": "markdown",
      "source": [
        "exercicio 8\n",
        "\n",
        "1. ler o valor do raio da lata (em metros)(R)\n",
        "2. ler o valor da altura da lata (em metros)(H)\n",
        "3. efetuar a seguinte operação > 2*(3.14*R²)\n",
        "4. efetuar outra operação >  (2*R*H*3.14)\n",
        "5. somar as duas operações anteriores  = XXX.XX\n",
        "6. Imprimir o valor do custo da lata como sendo o resultado \"XXX.XX\""
      ],
      "metadata": {
        "id": "_fsGnCALhxvv"
      }
    },
    {
      "cell_type": "markdown",
      "source": [
        "exercicio 9\n",
        "\n",
        "1. ler o valor do coeficiente A(eq 2 grau)\n",
        "2. ler o valor do coeficiente B(eq 2 grau)\n",
        "3. ler o valor do coeficiente C(eq 2 grau)\n",
        "4. realizar a seguinte operação > delta(X) = B²-4*A*C\n",
        "5. imprimir o valor calculado \"X\", que será igual ao delta desejado pelo programa"
      ],
      "metadata": {
        "id": "I6HtnB42lbM0"
      }
    },
    {
      "cell_type": "markdown",
      "source": [
        "exercicio 10\n",
        "\n",
        "1. ler o valor da primeira incognita da matriz quadrada \"a\"\n",
        "2. ler o valor da segunda incognita \"b\"\n",
        "3. ler o valor da terceira incognita (ja na segunda linha) \"c\"\n",
        "4. ler o valor da quarta incognita ( tambem na segunda linha) \"d\"\n",
        "5. efetuar o calculo > D= a*d - b*c\n",
        "6. imprimir a seguinte frase \"O valor do determinante é = D(float)\""
      ],
      "metadata": {
        "id": "Ncu7M85Eookc"
      }
    },
    {
      "cell_type": "markdown",
      "source": [
        "exercicio 11\n",
        "\n",
        "1. ler o numero informado pelo usuário\n",
        "2. verificar se o numero possui os algarismos \"5\" ou \"0\" em seu final\n",
        "3. caso nao tenha, imprimir \"O numero nao é divisivel\"\n",
        "4. caso tenha, verificar se a soma dos algorismos dos numeros é divisivel por 3\n",
        "5. caso seja, imprimir \"o numero é divisivel\"\n",
        "6. caso nao seja, imprimir \"o numero não é divisivel\""
      ],
      "metadata": {
        "id": "zl7Kv9Y0qKE5"
      }
    },
    {
      "cell_type": "markdown",
      "source": [
        "exercicio 12\n",
        "\n",
        "1. ler o numero de horas que o charrete foi utilizado\n",
        "2. realizar a divisao do numero por 3\n",
        "3. se nao houver resto, multiplicar por 10 e imprimir o valor encontrado\n",
        "4. se houver resto, multiplicar o resultado por 10 e o resto por 5, somar e imprimir o resultado."
      ],
      "metadata": {
        "id": "eFTIcCj1rDx1"
      }
    },
    {
      "cell_type": "markdown",
      "source": [
        "exercicio 13\n",
        "\n",
        "1. ler a nota do mestrando(float) (X)\n",
        "2. se a nota estiver entre 9 e 10 = \"A\"\n",
        "3. se a nota estiver entre 7.5 e 8.9 = \"B\"\n",
        "4. se a nota estiver 6 e 7.4 = \"C\"\n",
        "5. se a nota estiver entre 0 e 5.9 = \"D\"\n",
        "5. imprimir a nota\n",
        "6. imprimir \"Nota = \"X\" \"CONCEITO = \"conceito de acordo com a nota\""
      ],
      "metadata": {
        "id": "vgIPJWSBuLmi"
      }
    },
    {
      "cell_type": "markdown",
      "source": [
        "exercicio 14\n",
        "\n",
        "1. ler o numero informado correspondente à altura da pirâmide(h)(metros)(float)\n",
        "2. ler o numero informado correspondente à aresta do hexagono(a)(metros)(float)\n",
        "3. efetuar o seguinte calculo de área da base(AB) >AB = 3*a²*raiz de 3/2\n",
        "4. com o resultado do calculo anterior efeutuar o calculo do volume(V) > V=AB*h/3\n",
        "5. imprimir \" O volume da piramide é = \"V\"\"\n"
      ],
      "metadata": {
        "id": "XkW2HQZ5wIbv"
      }
    },
    {
      "cell_type": "markdown",
      "source": [
        "exercicio 15\n",
        "\n",
        "1. ler um valor inteiro entre 5 e 2000\n",
        "2. mapear todos os numeros pares de 1 até o numero em questao\n",
        "3. ler para todos os numeros (n + 2)², em que n é o numero anterior á ele\n",
        "4. imprimir n²= resultado para cada numero par em questão"
      ],
      "metadata": {
        "id": "lfCG-68SzwVt"
      }
    },
    {
      "cell_type": "markdown",
      "source": [
        "exercicio 16\n",
        "\n",
        "1. ler o salario do funcionário\n",
        "2. se o salario for menor ou igual a 300 reais, realizar a seguinte operação > salario*1.5\n",
        "3. se o salario for maior que 300 reais, realizar a seguinte operação > salario*1.3\n",
        "4. imprimir \"Salario com reajuste = \"valor calculado na etapa 1 ou 2\" \""
      ],
      "metadata": {
        "id": "Motvq8zD1SDN"
      }
    },
    {
      "cell_type": "markdown",
      "source": [
        "exercicio 17\n",
        "\n",
        "\n",
        "1. ler o primeiro numero \"x\"\n",
        "2. ler o segundo numero \"y\"\n",
        "3. se \"x\" não for um numero par, imprimir \"O primeiro numero nao é par\"\n",
        "4. se \"x\" for um numero par, prosseguir com o programa\n",
        "5. quando \"x\" for par, \"y\" será a quantidade de números pares subsequentes a \"x\"\n",
        "6. imprimir todos os números pares subsequentes a \"x\" de acordo com a quantidade determinada por \"y\""
      ],
      "metadata": {
        "id": "-EG8msyEj4cc"
      }
    },
    {
      "cell_type": "markdown",
      "source": [],
      "metadata": {
        "id": "hJOl45BM2sJM"
      }
    },
    {
      "cell_type": "markdown",
      "source": [
        "exercicio 18\n",
        "\n",
        "1. ler o numero inicial da progressao aritmetica (n1)\n",
        "2. ler a razão da progressao aritmetica(r)\n",
        "3. ler o numero de termos que a progressao aritmetica possui(n)\n",
        "4. efetuar o calculo > SN = (2.n1+r.n-r)n/2\n",
        "5. imprimir o resultado da operação \"SN\"(int)"
      ],
      "metadata": {
        "id": "sQ-B8RuTlCdG"
      }
    },
    {
      "cell_type": "markdown",
      "source": [
        "exercicio 19\n",
        "\n",
        "1. ler um numero \"n\" inteiro e positivo\n",
        "2. se \"n\" for menor ou igual a 1, imprimir:\"numero inválido!\"\n",
        "3. senão, para cada inteiro \"k\" de 1 até \"n\", adicionar 1/k até \"n\"\n",
        "4.imprimir a soma anterior com 6 casas decimais(float)"
      ],
      "metadata": {
        "id": "qu0PWZs_nMzy"
      }
    },
    {
      "cell_type": "markdown",
      "source": [
        "exercicio 20\n",
        "\n",
        "1. ler o tempo informado em horas(H)\n",
        "2. ler o tempo informado em minutos(M)\n",
        "3. ler o tempo informado em segundos(S)\n",
        "4. realizar a seguinte operação > Tempo total(TT) = H.3600+M.60+S\n",
        "5. imprimir a seguinte frase \"O tempo em segundos é = \"TT\"\""
      ],
      "metadata": {
        "id": "5WhK2jtlnwID"
      }
    },
    {
      "cell_type": "markdown",
      "source": [],
      "metadata": {
        "id": "WfXcOJi_EI-E"
      }
    },
    {
      "cell_type": "markdown",
      "source": [
        "\n",
        "exercicio 1(aula 02/04/2024)\n",
        "\n",
        "1. ler numero 1(n1)\n",
        "2. ler numero 2(n2)\n",
        "3. ler numero 3(n3)\n",
        "4. se n1<n2<n3, imprimir \"n1\",\"n2\", \"n3\"\n",
        "5. se n1<n3<n2, imprimir \"n1\", \"n3\" , \"n2\"\n",
        "6. se n2<n1<n3, imprimir \"n2\",\"n1\",\"n3\"\n",
        "7. se n2<n3<n1, imprimir \"n2\",\"n3\",\"n1\"\n",
        "8. se n3<n1<n2, imprimir \"n3\",\"n1\",\"n2\"\n",
        "9. se n3<n2<n1, imprimir \"n3\",\"n2\",\"n1\"\n",
        "\n"
      ],
      "metadata": {
        "id": "Lfm3Ov6-7FwE"
      }
    },
    {
      "cell_type": "markdown",
      "source": [],
      "metadata": {
        "id": "FQ-Yj2XuEOIz"
      }
    },
    {
      "cell_type": "markdown",
      "source": [
        "exercicio 2(aula 02/04/2024)\n",
        "var n1,n2,n3\n",
        "\n",
        "1. ler numero 1(n1)\n",
        "2. ler numero 2 (n2)\n",
        "3. ler numero 3 (n3)\n",
        "4. se n1<n2<n3 ou n2<n1<n3 , imprimir n3, senão\n",
        "5. se n2<n3<n1 ou n3<n2<n1, imprimir n1, senão\n",
        "6. imprimir n2"
      ],
      "metadata": {
        "id": "k97hF5Wk7t57"
      }
    },
    {
      "cell_type": "markdown",
      "source": [],
      "metadata": {
        "id": "gEsDMnxUEXfs"
      }
    },
    {
      "cell_type": "markdown",
      "source": [
        "exercicio 3(aula 02/04/2024)\n",
        "\n",
        "1. imprimir \"digite o valor da mercadoria:\"\n",
        "2. ler o valor da mercadoria(M)\n",
        "3. imprimir \"digite o valor do percentual de desconto:\"\n",
        "4. ler o percentual de desconto(P)\n",
        "5. efetuar a seguinte operação \"x\" > P/100 . M =  valor do desconto em reais\n",
        "6. efetuar outra operação \"y\" > M - ( M.P/100)\n",
        "7. imprimir o valor encontrado na operação \"x\"\n",
        "8. imprimir o valor encontrado na operação \"y\""
      ],
      "metadata": {
        "id": "kyVqEbYM8Sah"
      }
    }
  ]
}